{
 "cells": [
  {
   "cell_type": "markdown",
   "id": "6d7b6a33-1c54-4101-9949-a53a4780764a",
   "metadata": {},
   "source": [
    "ASSIGNMENT - 1"
   ]
  },
  {
   "cell_type": "markdown",
   "id": "74a60da4-697c-488c-bbe2-35e5add7be1d",
   "metadata": {},
   "source": [
    "Name: Paresh Arjun Sadekar"
   ]
  },
  {
   "cell_type": "raw",
   "id": "ebe3a312-95d2-43fd-8150-6806c90c3de3",
   "metadata": {},
   "source": [
    "Q1.. Explain the 3 differences between List and tuples."
   ]
  },
  {
   "cell_type": "raw",
   "id": "a440f7b3-e46e-490c-b57c-74a40d262c6e",
   "metadata": {},
   "source": [
    "Ans. LIST-\n",
    "1-Mutable – we can change, add, or remove elements after creation.\n",
    "2-Uses square brackets []\n",
    "3-  Slower than tuples in terms of iteration and memory usage.\n",
    "\n",
    "Tuple-\n",
    "1-Immutable – once created, it cannot be changed.\n",
    "2-Uses parentheses ()\n",
    "3-Faster and uses slightly less memory, because of its immutability and fixed size.\n",
    "\n",
    "\n",
    "\n"
   ]
  },
  {
   "cell_type": "raw",
   "id": "0d4ee6b2-bcf0-430b-b2b6-250fdf277cf6",
   "metadata": {},
   "source": [
    " Q2..You’re a Data Scientist. You have assigned a task to perform. Create two lists l1 & l2, where l1 has values -> (1,2,3,4,5,6) and l2 has values -> (6,5,4,3,2,1). Compare the corresponding element values of both the lists and print “L1 element value is greater than L2 element value” if corresponding value from l1 is greater else print “L1 element value is less than L2 element value” if corresponding value from l1 is less than l2."
   ]
  },
  {
   "cell_type": "code",
   "execution_count": 24,
   "id": "6a2f3dbe-a74b-4f79-b719-0f43a092049b",
   "metadata": {},
   "outputs": [
    {
     "name": "stdout",
     "output_type": "stream",
     "text": [
      "L1 element value (1) is less than L2 element value (6)\n",
      "L1 element value (2) is less than L2 element value (5)\n",
      "L1 element value (3) is less than L2 element value (4)\n",
      "L1 element value (4) is greater than L2 element value (3)\n",
      "L1 element value (5) is greater than L2 element value (2)\n",
      "L1 element value (6) is greater than L2 element value (1)\n"
     ]
    }
   ],
   "source": [
    "l1=[1,2,3,4,5,6]\n",
    "l2=[6,5,4,3,2,1]\n",
    "\n",
    "for i in range(len(l1)):\n",
    "    if l1[i] >l2[i]:\n",
    "        print(f\"L1 element value ({l1[i]}) is greater than L2 element value ({l2[i]})\")\n",
    "    else:\n",
    "        print(f\"L1 element value ({l1[i]}) is less than L2 element value ({l2[i]})\")\n",
    "        "
   ]
  },
  {
   "cell_type": "raw",
   "id": "51cb83a4-7255-4af0-8767-6a4074be0bb6",
   "metadata": {},
   "source": [
    "Q3.. Write a Python user defined function that takes a list of numbers from user and returns a dictionary with the number as the key and its square as the value."
   ]
  },
  {
   "cell_type": "code",
   "execution_count": 72,
   "id": "e8cb2de1-5df2-4d2b-b9f4-5d59f5d64976",
   "metadata": {},
   "outputs": [
    {
     "name": "stdin",
     "output_type": "stream",
     "text": [
      "Enter a list of numbers:  1 2 3 4 5\n"
     ]
    },
    {
     "name": "stdout",
     "output_type": "stream",
     "text": [
      "Number and their squares: {1: 1, 2: 4, 3: 9, 4: 16, 5: 25}\n"
     ]
    }
   ],
   "source": [
    "def get_squares_dict():\n",
    "    numbers = input(\"Enter a list of numbers: \")\n",
    "    num_list = [int(num) for num in numbers.split()]\n",
    "    squares_dict = {num: num**2 for num in num_list}\n",
    "\n",
    "    return squares_dict\n",
    "result = get_squares_dict()\n",
    "print(\"Number and their squares:\", result)\n"
   ]
  },
  {
   "cell_type": "raw",
   "id": "73854547-244c-4661-b886-d3dd2caf4db4",
   "metadata": {},
   "source": [
    "Q4. You work in a Company as a Analyst. The company officials want you to build a python based Calculator. Write code to create a user defined function named Calculator. \n",
    "● User will pass 3 parameters in Calculator function int1, int2, task \n",
    "● The task string will be ‘add’, ‘sub’, ‘mul’, ‘div’. Perform Addition, Subtraction, Multiplication and Division on the two numbers(int1, int2) respectively. Make sure the task parameter is case insensitive (meaning that even if user passes ‘aDd’ as command it should perform addition on two numbers)\n",
    "● Define methods for addition, subtraction, multiplication and division in Calculator function that take in two numbers and return another number after performing their respective operations. Eg: Calculator(2,5,ADD) should return 7 Calculator(7,1,SuB) should return 6\n"
   ]
  },
  {
   "cell_type": "code",
   "execution_count": 97,
   "id": "59f661cf-6401-46f0-974a-196d4817f9e9",
   "metadata": {},
   "outputs": [
    {
     "name": "stdout",
     "output_type": "stream",
     "text": [
      "7\n",
      "6\n",
      "12\n",
      "5.0\n",
      "Error: Division by zero\n"
     ]
    }
   ],
   "source": [
    "def Calculator(int1, int2, task):\n",
    "     def add(a, b):\n",
    "        return a + b\n",
    "     def sub(a, b):\n",
    "        return a - b\n",
    "\n",
    "     def mul(a, b):\n",
    "        return a * b\n",
    "\n",
    "     def div(a, b):\n",
    "        if b == 0:\n",
    "             return \"Error: Division by zero\"\n",
    "        return a / b\n",
    "     task = task.lower()\n",
    "     if task == 'add':\n",
    "        return add(int1, int2)\n",
    "     elif task == 'sub':\n",
    "        return sub(int1, int2)\n",
    "     elif task == 'mul':\n",
    "        return mul(int1, int2)\n",
    "     elif task == 'div':\n",
    "        return div(int1, int2)\n",
    "     else:\n",
    "        return \"Invalid operation. Use 'add', 'sub', 'mul', or 'div'.\"\n",
    "\n",
    "print(Calculator(2, 5, 'ADD'))\n",
    "print(Calculator(7, 1, 'SuB'))\n",
    "print(Calculator(3, 4, 'MuL'))\n",
    "print(Calculator(10, 2, 'DIV'))\n",
    "print(Calculator(10, 0, 'div'))\n"
   ]
  },
  {
   "cell_type": "raw",
   "id": "b5032479-9cde-4848-ae81-3032fad97284",
   "metadata": {},
   "source": [
    "Q5. Write a Function to check if the year number is a leap year or not. Print all Leap Years of 21st Century."
   ]
  },
  {
   "cell_type": "code",
   "execution_count": 103,
   "id": "2c8ec17d-1b61-45b0-adb7-8dbbe5c43ee7",
   "metadata": {},
   "outputs": [
    {
     "name": "stdout",
     "output_type": "stream",
     "text": [
      "Leap Years in the 21st Century (2001–2100):\n",
      "2005\n",
      "2010\n",
      "2015\n",
      "2020\n",
      "2025\n",
      "2030\n",
      "2035\n",
      "2040\n",
      "2045\n",
      "2050\n",
      "2055\n",
      "2060\n",
      "2065\n",
      "2070\n",
      "2075\n",
      "2080\n",
      "2085\n",
      "2090\n",
      "2095\n",
      "2100\n"
     ]
    }
   ],
   "source": [
    "def is_leap_year(year):\n",
    "    return (year % 5 == 0)\n",
    "print(\"Leap Years in the 21st Century (2001–2100):\")\n",
    "for y in range(2001, 2101):\n",
    "    if is_leap_year(y):\n",
    "        print(y)"
   ]
  },
  {
   "cell_type": "raw",
   "id": "6d9457b4-e938-4e75-a790-9407a3819e20",
   "metadata": {},
   "source": [
    " Q6. Write a python code to print the following pattern. \n",
    "1\n",
    " 1 2 \n",
    "1 2 3 \n",
    "1 2 3 4 \n",
    "1 2 3 4 5\n"
   ]
  },
  {
   "cell_type": "code",
   "execution_count": 105,
   "id": "fa4dc22d-a70a-4373-8673-3a3273ab167c",
   "metadata": {},
   "outputs": [
    {
     "name": "stdout",
     "output_type": "stream",
     "text": [
      "1 \n",
      "1 2 \n",
      "1 2 3 \n",
      "1 2 3 4 \n",
      "1 2 3 4 5 \n"
     ]
    }
   ],
   "source": [
    "rows = 5\n",
    "for i in range(1, rows + 1):\n",
    "    for j in range(1, i + 1):\n",
    "        print(j, end=' ')\n",
    "    print()"
   ]
  },
  {
   "cell_type": "raw",
   "id": "85ee5a90-6762-4c21-b180-d2bd3fec36cc",
   "metadata": {},
   "source": [
    "Q7. Write a Python program to convert key-values list to flat dictionary? \n",
    "Eg: \n",
    "I/P -- [(\"name\",\"Virat\"), (\"surname\",\"Kohli\"), (\"yob\",1986)] \n",
    "O/P -- {'name': 'Virat', 'surname': 'Kohli', 'yob': 1986} \n"
   ]
  },
  {
   "cell_type": "code",
   "execution_count": 107,
   "id": "7d303fc0-0cfa-401f-8b9f-628ed46b360c",
   "metadata": {},
   "outputs": [
    {
     "name": "stdout",
     "output_type": "stream",
     "text": [
      "{'name': 'Sachin', 'surname': 'Tendulkar', 'yob': 1986}\n"
     ]
    }
   ],
   "source": [
    "key_value_list = [(\"name\", \"Sachin\"), (\"surname\", \"Tendulkar\"), (\"yob\", 1986)]\n",
    "flat_dict = dict(key_value_list)\n",
    "print(flat_dict)\n"
   ]
  },
  {
   "cell_type": "raw",
   "id": "4420bbaf-b7c5-437e-a128-572836d5ff73",
   "metadata": {},
   "source": [
    "Q8. Write a Function to take a list and return 2 lists:- 1st list should contain all even indexed numbers.- 2nd list should contain all odd indexed numbers."
   ]
  },
  {
   "cell_type": "code",
   "execution_count": 111,
   "id": "f2d980b1-6aa4-4362-b8b1-52dcdaea19b8",
   "metadata": {},
   "outputs": [
    {
     "name": "stdout",
     "output_type": "stream",
     "text": [
      "Even indexed elements: [10, 30, 50]\n",
      "Odd indexed elements: [20, 40, 60]\n"
     ]
    }
   ],
   "source": [
    "def even_odd_indices(input_list):\n",
    "    even_indexed = input_list[::2]  \n",
    "    odd_indexed = input_list[1::2] \n",
    "    return even_indexed, odd_indexed\n",
    "my_list =[10, 20, 30, 40, 50, 60]\n",
    "even_list, odd_list =even_odd_indices(my_list)\n",
    "\n",
    "print(\"Even indexed elements:\", even_list)\n",
    "print(\"Odd indexed elements:\", odd_list)"
   ]
  },
  {
   "cell_type": "raw",
   "id": "4e9c75f5-5b8c-4da2-a074-961ab3cdd043",
   "metadata": {},
   "source": [
    "Q9. Create a Login System Take a username and password as input, and validate using a stored dictionary of users."
   ]
  },
  {
   "cell_type": "code",
   "execution_count": 9,
   "id": "57144e30-c626-4d7a-8c1b-e2f6f66c0dea",
   "metadata": {},
   "outputs": [
    {
     "name": "stdin",
     "output_type": "stream",
     "text": [
      "Enter username:  ali\n",
      "Enter password:  alip\n"
     ]
    },
    {
     "name": "stdout",
     "output_type": "stream",
     "text": [
      "Login successful!\n"
     ]
    }
   ],
   "source": [
    "users = {\n",
    "    \"admin\": \"admin123\",\n",
    "    \"john\": \"johnpass\",\n",
    "    \"ali\": \"alip\"\n",
    "}\n",
    "def login_system():\n",
    "    username = input(\"Enter username: \")\n",
    "    password = input(\"Enter password: \")\n",
    "    if username in users and users[username] == password:\n",
    "        print(\"Login successful!\")\n",
    "    else:\n",
    "        print(\"Invalid username or password.\")\n",
    "\n",
    "login_system()\n"
   ]
  },
  {
   "cell_type": "code",
   "execution_count": null,
   "id": "145392eb-48af-4aaf-8c53-f17602cc6f65",
   "metadata": {},
   "outputs": [],
   "source": []
  },
  {
   "cell_type": "code",
   "execution_count": null,
   "id": "a298af80-7a2b-43be-a119-540275fbdfb2",
   "metadata": {},
   "outputs": [],
   "source": []
  },
  {
   "cell_type": "code",
   "execution_count": null,
   "id": "f4605d05-3503-4b3f-93af-45966f13f3be",
   "metadata": {},
   "outputs": [],
   "source": []
  },
  {
   "cell_type": "code",
   "execution_count": null,
   "id": "ff02ab48-e6f8-4ee2-a860-82d6f1811e56",
   "metadata": {},
   "outputs": [],
   "source": []
  },
  {
   "cell_type": "code",
   "execution_count": null,
   "id": "bd2a2aaa-02b0-4ba1-a546-65a233db3718",
   "metadata": {},
   "outputs": [],
   "source": []
  },
  {
   "cell_type": "code",
   "execution_count": null,
   "id": "7fd11b1a-d49e-499a-a966-c7c567306e86",
   "metadata": {},
   "outputs": [],
   "source": []
  },
  {
   "cell_type": "code",
   "execution_count": null,
   "id": "06057cc6-476a-4e8b-94a5-012329e548ab",
   "metadata": {},
   "outputs": [],
   "source": []
  },
  {
   "cell_type": "raw",
   "id": "ae518fe6-7cd6-4330-931b-2b6d6691bb94",
   "metadata": {},
   "source": []
  },
  {
   "cell_type": "code",
   "execution_count": null,
   "id": "51723e8a-e775-4adc-ac53-0428e475fdc0",
   "metadata": {},
   "outputs": [],
   "source": []
  },
  {
   "cell_type": "code",
   "execution_count": null,
   "id": "ee447507-74f8-4583-9dda-347789395a20",
   "metadata": {},
   "outputs": [],
   "source": []
  }
 ],
 "metadata": {
  "kernelspec": {
   "display_name": "Python [conda env:base] *",
   "language": "python",
   "name": "conda-base-py"
  },
  "language_info": {
   "codemirror_mode": {
    "name": "ipython",
    "version": 3
   },
   "file_extension": ".py",
   "mimetype": "text/x-python",
   "name": "python",
   "nbconvert_exporter": "python",
   "pygments_lexer": "ipython3",
   "version": "3.12.7"
  }
 },
 "nbformat": 4,
 "nbformat_minor": 5
}
